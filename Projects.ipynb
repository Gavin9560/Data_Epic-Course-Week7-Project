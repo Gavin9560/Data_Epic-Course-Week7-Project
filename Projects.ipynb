{
 "cells": [
  {
   "cell_type": "markdown",
   "metadata": {},
   "source": [
    "# Week 7\n",
    "## Question 1"
   ]
  },
  {
   "cell_type": "code",
   "execution_count": 2,
   "metadata": {},
   "outputs": [
    {
     "name": "stdout",
     "output_type": "stream",
     "text": [
      "OOPPSSS !!!!! Please try again\n"
     ]
    }
   ],
   "source": [
    "# Definition of my function and setting a random range, specifying the start of the range, and its end\n",
    "def check_if_number_falls_in_range (start, end):\n",
    "\n",
    "    # Here, i specified the variable \"entered number\", and created a prompt that will ask the user to enter a random number. \n",
    "    # Next, I used the 'int' function to convert the entered string, to an integer.\n",
    "    entered_number = int(input(\"please enter a random number, sit back, while we check its position for you:\"))\n",
    "\n",
    "    # Here i defined the range arguments \"start\" as 25 and \"end\" as 50\n",
    "    start = 25\n",
    "    end = 100\n",
    "\n",
    "   # Here, I used conditional operators to setup the conditions for the \"if\" and \"else\" statements\n",
    "    if entered_number >= start and entered_number <= end:\n",
    "        print(f\"{entered_number} falls in the specified range of integers .\")\n",
    "    else:\n",
    "        print(\"OOPPSSS !!!!! Please try again\")\n",
    "\n",
    "# Lastly, i called the function, to check if the entered number falls within the specified range, having set all conditions.\n",
    "check_if_number_falls_in_range(25, 100)\n"
   ]
  },
  {
   "cell_type": "markdown",
   "metadata": {},
   "source": [
    "## Question 2"
   ]
  },
  {
   "cell_type": "code",
   "execution_count": 3,
   "metadata": {},
   "outputs": [
    {
     "name": "stdout",
     "output_type": "stream",
     "text": [
      "The number of Uppercase letters in your text is: 0\n",
      "The number of Lowercase Letters in your text is: 18\n"
     ]
    }
   ],
   "source": [
    "# Here, I defined the fucnction using the \"def\" function.\n",
    "def count_the_number_of_Upper_and_lower_Case_Letters():\n",
    "    \n",
    "    # Here I assigned a variable, and specified a prompt that allows the users to enter any string of their chooice.\n",
    "    entered_text = input(\"enter your choice sentence, relax while we count the letter-case distribution in your entry: \")\n",
    "\n",
    "    # Here i reset my counts, to start counting from Zero\n",
    "    uppercase_letters_count = 0\n",
    "    lowercase_letters_count = 0\n",
    "\n",
    "    # Here,i brought in the use of the for loop, to check through the characters that would be entered by the users, and also incorperating the if and elif conditions\n",
    "    \n",
    "    for char in entered_text:\n",
    "        if char.isupper():\n",
    "            uppercase_letters_count += 1\n",
    "        elif char.islower():\n",
    "            lowercase_letters_count += 1\n",
    "\n",
    "# Here,I Printed out my results     \n",
    "    print(f\"The number of Uppercase letters in your text is: {uppercase_letters_count}\")\n",
    "    print(f\"The number of Lowercase Letters in your text is: {lowercase_letters_count}\")\n",
    "\n",
    "# Here, I called the function\n",
    "count_the_number_of_Upper_and_lower_Case_Letters()\n"
   ]
  },
  {
   "cell_type": "markdown",
   "metadata": {},
   "source": [
    "## Question 3"
   ]
  },
  {
   "cell_type": "code",
   "execution_count": 4,
   "metadata": {},
   "outputs": [
    {
     "name": "stdout",
     "output_type": "stream",
     "text": [
      "['green', 'yellow', 'blue', 'white', 'gold', 'red']\n"
     ]
    }
   ],
   "source": [
    "# Here, i Defined the function using the \"def\" keyword\n",
    "def return_distinct_list():\n",
    "    \n",
    "    # Next, I Initialized an empty list to store the enteries of the favorite colors\n",
    "    favorite_colors = []\n",
    "\n",
    "    # Here, I Looped within the range of 10, to ask the users for their favorite colors\n",
    "    for i in range(10):\n",
    "        color = input(f\"Hey user {i+1}, what is your favorite color?  : \")\n",
    "        # Next, I Added the Users favorite colors to the list\n",
    "        favorite_colors.append(color)\n",
    "\n",
    "    # Return the set of distinct favorite colors\n",
    "    return list(set(favorite_colors))\n",
    "\n",
    "# Call the function\n",
    "distinct_colors = return_distinct_list()\n",
    "print(distinct_colors)"
   ]
  },
  {
   "cell_type": "markdown",
   "metadata": {},
   "source": [
    "## Question 4"
   ]
  },
  {
   "cell_type": "code",
   "execution_count": 5,
   "metadata": {},
   "outputs": [
    {
     "name": "stdout",
     "output_type": "stream",
     "text": [
      "Data Epic has cool Mentors !\n"
     ]
    }
   ],
   "source": [
    "# Here, I defined the function using the \"def\" keyword\n",
    "def concatenate(a=\"Data Epic\", b=\"has\", c=\"cool\", d=\"Mentors\", e=\"!\"):\n",
    "    print (a + \" \" + b + \" \" + c + \" \" + d + \" \" + e)\n",
    "\n",
    "# Calling the function, we have:\n",
    "concatenate(a=\"Data Epic\", b=\"has\", c=\"cool\", d=\"Mentors\", e=\"!\")"
   ]
  },
  {
   "cell_type": "markdown",
   "metadata": {},
   "source": [
    "## Question 5 a"
   ]
  },
  {
   "cell_type": "code",
   "execution_count": 6,
   "metadata": {},
   "outputs": [
    {
     "name": "stdout",
     "output_type": "stream",
     "text": [
      "My name is Gavin!\n",
      "My library is full with books\n"
     ]
    }
   ],
   "source": [
    "# Here, I defined the function using the \"def\" keyword\n",
    "def my_name():\n",
    "    return \"My name is Gavin!\"\n",
    "\n",
    "# Calling the function, we have:\n",
    "print(my_name())\n",
    "\n",
    "def my_library():\n",
    "    print(\"My library is full with books\")\n",
    "\n",
    "my_library()"
   ]
  },
  {
   "cell_type": "markdown",
   "metadata": {},
   "source": [
    "## Question 5 b"
   ]
  },
  {
   "cell_type": "code",
   "execution_count": 8,
   "metadata": {},
   "outputs": [
    {
     "name": "stdout",
     "output_type": "stream",
     "text": [
      "16\n",
      "64\n"
     ]
    }
   ],
   "source": [
    "# Here, I defined the function using the \"def\" keyword\n",
    "def square_of_digit(x):\n",
    "    return x * x\n",
    "\n",
    "# Calling the function, we have:\n",
    "print(square_of_digit(4)) \n",
    "\n",
    "def square_of_digit(x):\n",
    "    print (x * x)\n",
    "\n",
    "square_of_digit(8) \n"
   ]
  },
  {
   "cell_type": "markdown",
   "metadata": {},
   "source": [
    "## Question 5 c"
   ]
  },
  {
   "cell_type": "code",
   "execution_count": 9,
   "metadata": {},
   "outputs": [
    {
     "name": "stdout",
     "output_type": "stream",
     "text": [
      "Gavin Emeka\n",
      "35\n"
     ]
    }
   ],
   "source": [
    "def my_full_name(firstName, LastName):\n",
    "    print (firstName +\" \"+ LastName)\n",
    "\n",
    "my_full_name (\"Gavin\", \"Emeka\")\n",
    "\n",
    "def product(e,y):\n",
    "    return e * y\n",
    "\n",
    "print(product(5,7))"
   ]
  },
  {
   "cell_type": "markdown",
   "metadata": {},
   "source": [
    "## Question 5 d"
   ]
  },
  {
   "cell_type": "code",
   "execution_count": 10,
   "metadata": {},
   "outputs": [
    {
     "name": "stdout",
     "output_type": "stream",
     "text": [
      "the capital of Rwanda is Kigali\n"
     ]
    }
   ],
   "source": [
    "def state_capital(country = \"Kigali\"):\n",
    "    print(f\"the capital of Rwanda is {country}\")\n",
    "\n",
    "state_capital()"
   ]
  },
  {
   "cell_type": "markdown",
   "metadata": {},
   "source": [
    "## Question 5 e"
   ]
  },
  {
   "cell_type": "code",
   "execution_count": 11,
   "metadata": {},
   "outputs": [
    {
     "name": "stdout",
     "output_type": "stream",
     "text": [
      "160\n"
     ]
    }
   ],
   "source": [
    "def sum_of_ages(*args):\n",
    "    return sum(args)\n",
    "\n",
    "print(sum_of_ages(7, 28, 30, 43, 52)) \n",
    "\n",
    "\n"
   ]
  },
  {
   "cell_type": "markdown",
   "metadata": {},
   "source": [
    "## Question 5 f"
   ]
  },
  {
   "cell_type": "code",
   "execution_count": 16,
   "metadata": {},
   "outputs": [
    {
     "name": "stdout",
     "output_type": "stream",
     "text": [
      "160\n"
     ]
    }
   ],
   "source": [
    "# Here, I defined the function using the \"def\" keyword\n",
    "def sum_of_ages(**kwargs):\n",
    "\n",
    "    # Here, I used the \"sum\" function to sum up the values of the ages entered by the users\n",
    "    return sum(int(value) for value in kwargs.values())\n",
    "\n",
    "# Calling the function, we have:\n",
    "print(sum_of_ages(x=\"7\", r=\"28\", k=\"30\", t=\"43\", q=\"52\"))\n"
   ]
  }
 ],
 "metadata": {
  "kernelspec": {
   "display_name": "Python 3",
   "language": "python",
   "name": "python3"
  },
  "language_info": {
   "codemirror_mode": {
    "name": "ipython",
    "version": 3
   },
   "file_extension": ".py",
   "mimetype": "text/x-python",
   "name": "python",
   "nbconvert_exporter": "python",
   "pygments_lexer": "ipython3",
   "version": "3.12.7"
  }
 },
 "nbformat": 4,
 "nbformat_minor": 2
}
